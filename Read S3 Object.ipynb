{
 "cells": [
  {
   "cell_type": "code",
   "execution_count": 40,
   "metadata": {},
   "outputs": [],
   "source": [
    "import json\n",
    "from dateutil import parser\n",
    "import time\n",
    "import os\n",
    "import subprocess\n",
    "import urllib\n",
    "import urllib.request\n",
    "import pandas as pd\n",
    "import unidecode\n",
    "from unidecode import unidecode\n",
    "import requests\n",
    "import urllib\n",
    "from urllib import parse\n",
    "import sys\n",
    "import base64\n",
    "import numpy as np\n",
    "import re\n",
    "import pymysql\n",
    "# import MySQLdb\n",
    "import base64\n",
    "import datetime\n",
    "from datetime import datetime\n",
    "from collections import defaultdict\n",
    "import pickle\n",
    "import pprint\n",
    "from pprint import pprint\n",
    "import urllib\n",
    "import pandas as pd\n",
    "import numpy as np\n",
    "import json\n",
    "import requests\n",
    "import boto3\n",
    "import matplotlib.pyplot as plt\n",
    "import pymysql\n",
    "from io import StringIO\n",
    "import ast"
   ]
  },
  {
   "cell_type": "code",
   "execution_count": 3,
   "metadata": {},
   "outputs": [],
   "source": [
    "# IMPORT STUBHUB\n",
    "s3_client = boto3.client('s3')\n",
    "bucket = 'willjeventdata'\n",
    "key = 'stubhub_events.pkl'\n",
    "response = s3_client.get_object(Bucket=bucket, Key=key)\n",
    "event_dict = (response['Body'].read())\n",
    "event_json = json.loads(event_dict.decode('utf8'))\n",
    "stubhub_event_df = pd.DataFrame.from_dict(event_json)"
   ]
  },
  {
   "cell_type": "code",
   "execution_count": 4,
   "metadata": {},
   "outputs": [],
   "source": [
    "# IMPORT TICKETMASTER\n",
    "s3_client = boto3.client('s3')\n",
    "bucket = 'willjeventdata'\n",
    "key = 'ticketmaster_events.pkl'\n",
    "response = s3_client.get_object(Bucket=bucket, Key=key)\n",
    "event_dict = (response['Body'].read())\n",
    "event_json = json.loads(event_dict.decode('utf8'))\n",
    "ticketmaster_event_df = pd.DataFrame.from_dict(event_json)"
   ]
  },
  {
   "cell_type": "code",
   "execution_count": 5,
   "metadata": {},
   "outputs": [],
   "source": [
    "# IMPORT EVENTBRITE\n",
    "s3_client = boto3.client('s3')\n",
    "bucket = 'willjeventdata'\n",
    "key = 'eventbrite_events.pkl'\n",
    "response = s3_client.get_object(Bucket=bucket, Key=key)\n",
    "event_dict = (response['Body'].read())\n",
    "event_json = json.loads(event_dict.decode('utf8'))\n",
    "eventbrite_event_df = pd.DataFrame.from_dict(event_json)"
   ]
  },
  {
   "cell_type": "code",
   "execution_count": 63,
   "metadata": {},
   "outputs": [
    {
     "name": "stdout",
     "output_type": "stream",
     "text": [
      "{\"artist\":\"Amon Amarth\",\"average_price\":96e0,\"capacity\":1000,\"city\":\"Sacramento\",\"create_ts\":1565527280000,\"date_UTC\":1569376800000,\"highest_price\":0,\"id\":\"4911285\",\"listing_count\":23e0,\"lowest_price\":55e0,\"median_price\":75e0,\"name\":\"Amon Amarth\",\"state\":\"CA\",\"venue\":\"Ace of Spades\"}\n",
      "{\"artist\":\"Alec Benjamin\",\"average_price\":1629e0,\"capacity\":8543,\"city\":\"Del Mar\",\"create_ts\":1565527280000,\"date_UTC\":1568401200000,\"highest_price\":0,\"id\":\"4553762\",\"listing_count\":45e0,\"lowest_price\":403e0,\"median_price\":795e0,\"name\":\"KAABOO Del Mar (3 Day Pass) with Kings of Leon, Dave Matthews Band, Mumford & Sons, and more\",\"state\":\"CA\",\"venue\":\"Del Mar Fairgrounds\"}\n",
      "\n"
     ]
    },
    {
     "ename": "SyntaxError",
     "evalue": "invalid syntax (<unknown>, line 2)",
     "output_type": "error",
     "traceback": [
      "Traceback \u001b[1;36m(most recent call last)\u001b[0m:\n",
      "  File \u001b[0;32m\"C:\\Users\\bswxj01\\AppData\\Local\\Continuum\\anaconda3\\envs\\event_ticket_pricing\\lib\\site-packages\\IPython\\core\\interactiveshell.py\"\u001b[0m, line \u001b[0;32m3326\u001b[0m, in \u001b[0;35mrun_code\u001b[0m\n    exec(code_obj, self.user_global_ns, self.user_ns)\n",
      "  File \u001b[0;32m\"<ipython-input-63-d08b047b8b27>\"\u001b[0m, line \u001b[0;32m30\u001b[0m, in \u001b[0;35m<module>\u001b[0m\n    mydict = ast.literal_eval(file_str)\n",
      "  File \u001b[0;32m\"C:\\Users\\bswxj01\\AppData\\Local\\Continuum\\anaconda3\\envs\\event_ticket_pricing\\lib\\ast.py\"\u001b[0m, line \u001b[0;32m46\u001b[0m, in \u001b[0;35mliteral_eval\u001b[0m\n    node_or_string = parse(node_or_string, mode='eval')\n",
      "\u001b[1;36m  File \u001b[1;32m\"C:\\Users\\bswxj01\\AppData\\Local\\Continuum\\anaconda3\\envs\\event_ticket_pricing\\lib\\ast.py\"\u001b[1;36m, line \u001b[1;32m35\u001b[1;36m, in \u001b[1;35mparse\u001b[1;36m\u001b[0m\n\u001b[1;33m    return compile(source, filename, mode, PyCF_ONLY_AST)\u001b[0m\n",
      "\u001b[1;36m  File \u001b[1;32m\"<unknown>\"\u001b[1;36m, line \u001b[1;32m2\u001b[0m\n\u001b[1;33m    {\"artist\":\"Alec Benjamin\",\"average_price\":1629e0,\"capacity\":8543,\"city\":\"Del Mar\",\"create_ts\":1565527280000,\"date_UTC\":1568401200000,\"highest_price\":0,\"id\":\"4553762\",\"listing_count\":45e0,\"lowest_price\":403e0,\"median_price\":795e0,\"name\":\"KAABOO Del Mar (3 Day Pass) with Kings of Leon, Dave Matthews Band, Mumford & Sons, and more\",\"state\":\"CA\",\"venue\":\"Del Mar Fairgrounds\"}\u001b[0m\n\u001b[1;37m    ^\u001b[0m\n\u001b[1;31mSyntaxError\u001b[0m\u001b[1;31m:\u001b[0m invalid syntax\n"
     ]
    }
   ],
   "source": [
    "# IMPORT SEATGEEK\n",
    "s3_client = boto3.client('s3')\n",
    "bucket = 'willjeventdata'\n",
    "key = 'seatgeek_events.pkl'\n",
    "# response = s3_client.get_object(Bucket=bucket, Key=key)\n",
    "# event_dict = (response['Body'].read())\n",
    "# sql_stmt = \"\"\"SELECT * FROM s3object WHERE \\\"artist\\\" = 'SALES'\"\"\"\n",
    "sql_stmt = \"\"\"SELECT * FROM s3object LIMIT 2\"\"\"\n",
    "\n",
    "req = s3_client.select_object_content(\n",
    "    Bucket='willjeventdata',\n",
    "    Key='seatgeek/seatgeek_events.json',\n",
    "    ExpressionType='SQL',\n",
    "    Expression=sql_stmt,\n",
    "    InputSerialization = {'JSON': {'Type': 'Lines'}},\n",
    "    OutputSerialization = {'JSON': {}}\n",
    ")\n",
    "\n",
    "records = []\n",
    "for event in req['Payload']:\n",
    "    if 'Records' in event:\n",
    "        records.append(event['Records']['Payload'])\n",
    "    elif 'Stats' in event:\n",
    "        stats = event['Stats']['Details']\n",
    "\n",
    "file_str = ''.join(r.decode('utf-8') for r in records)\n",
    "\n",
    "print(file_str)\n",
    "\n",
    "mydict = ast.literal_eval(file_str)\n",
    "\n",
    "for obj in mydict:\n",
    "    print(obj)\n"
   ]
  },
  {
   "cell_type": "code",
   "execution_count": null,
   "metadata": {},
   "outputs": [],
   "source": []
  }
 ],
 "metadata": {
  "kernelspec": {
   "display_name": "Python 3",
   "language": "python",
   "name": "python3"
  },
  "language_info": {
   "codemirror_mode": {
    "name": "ipython",
    "version": 3
   },
   "file_extension": ".py",
   "mimetype": "text/x-python",
   "name": "python",
   "nbconvert_exporter": "python",
   "pygments_lexer": "ipython3",
   "version": "3.7.4"
  }
 },
 "nbformat": 4,
 "nbformat_minor": 2
}
