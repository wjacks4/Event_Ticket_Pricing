{
 "cells": [
  {
   "cell_type": "code",
   "execution_count": 2,
   "metadata": {},
   "outputs": [],
   "source": [
    "import json\n",
    "from dateutil import parser\n",
    "import time\n",
    "import os\n",
    "import subprocess\n",
    "import urllib\n",
    "import urllib.request\n",
    "import pandas as pd\n",
    "import unidecode\n",
    "from unidecode import unidecode\n",
    "import requests\n",
    "import urllib\n",
    "from urllib import parse\n",
    "import sys\n",
    "import base64\n",
    "import numpy as np\n",
    "import re\n",
    "import pymysql\n",
    "# import MySQLdb\n",
    "import base64\n",
    "import datetime\n",
    "from datetime import datetime\n",
    "import easydict\n",
    "from collections import defaultdict\n",
    "import pickle\n",
    "import pprint\n",
    "from pprint import pprint\n",
    "import urllib\n",
    "import pandas as pd\n",
    "import numpy as np\n",
    "import json\n",
    "import requests\n",
    "import boto3\n",
    "import matplotlib.pyplot as plt\n",
    "import pymysql"
   ]
  },
  {
   "cell_type": "code",
   "execution_count": 3,
   "metadata": {},
   "outputs": [],
   "source": [
    "# IMPORT STUBHUB\n",
    "s3_client = boto3.client('s3')\n",
    "bucket = 'willjeventdata'\n",
    "key = 'stubhub_events.pkl'\n",
    "response = s3_client.get_object(Bucket=bucket, Key=key)\n",
    "event_dict = (response['Body'].read())\n",
    "event_json = json.loads(event_dict.decode('utf8'))\n",
    "stubhub_event_df = pd.DataFrame.from_dict(event_json)"
   ]
  },
  {
   "cell_type": "code",
   "execution_count": 4,
   "metadata": {},
   "outputs": [],
   "source": [
    "# IMPORT TICKETMASTER\n",
    "s3_client = boto3.client('s3')\n",
    "bucket = 'willjeventdata'\n",
    "key = 'ticketmaster_events.pkl'\n",
    "response = s3_client.get_object(Bucket=bucket, Key=key)\n",
    "event_dict = (response['Body'].read())\n",
    "event_json = json.loads(event_dict.decode('utf8'))\n",
    "ticketmaster_event_df = pd.DataFrame.from_dict(event_json)"
   ]
  },
  {
   "cell_type": "code",
   "execution_count": 5,
   "metadata": {},
   "outputs": [],
   "source": [
    "# IMPORT EVENTBRITE\n",
    "s3_client = boto3.client('s3')\n",
    "bucket = 'willjeventdata'\n",
    "key = 'eventbrite_events.pkl'\n",
    "response = s3_client.get_object(Bucket=bucket, Key=key)\n",
    "event_dict = (response['Body'].read())\n",
    "event_json = json.loads(event_dict.decode('utf8'))\n",
    "eventbrite_event_df = pd.DataFrame.from_dict(event_json)"
   ]
  },
  {
   "cell_type": "code",
   "execution_count": 6,
   "metadata": {},
   "outputs": [],
   "source": [
    "# IMPORT SEATGEEK\n",
    "s3_client = boto3.client('s3')\n",
    "bucket = 'willjeventdata'\n",
    "key = 'seatgeek_events.pkl'\n",
    "response = s3_client.get_object(Bucket=bucket, Key=key)\n",
    "event_dict = (response['Body'].read())\n",
    "event_json = json.loads(event_dict.decode('utf8'))\n",
    "seatgeek_event_df = pd.DataFrame.from_dict(event_json)"
   ]
  },
  {
   "cell_type": "code",
   "execution_count": null,
   "metadata": {},
   "outputs": [],
   "source": []
  }
 ],
 "metadata": {
  "kernelspec": {
   "display_name": "Python 3",
   "language": "python",
   "name": "python3"
  },
  "language_info": {
   "codemirror_mode": {
    "name": "ipython",
    "version": 3
   },
   "file_extension": ".py",
   "mimetype": "text/x-python",
   "name": "python",
   "nbconvert_exporter": "python",
   "pygments_lexer": "ipython3",
   "version": "3.7.1"
  }
 },
 "nbformat": 4,
 "nbformat_minor": 2
}
