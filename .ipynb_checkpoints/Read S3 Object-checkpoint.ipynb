{
 "cells": [
  {
   "cell_type": "code",
   "execution_count": 40,
   "metadata": {},
   "outputs": [],
   "source": [
    "import json\n",
    "from dateutil import parser\n",
    "import time\n",
    "import os\n",
    "import subprocess\n",
    "import urllib\n",
    "import urllib.request\n",
    "import pandas as pd\n",
    "import unidecode\n",
    "from unidecode import unidecode\n",
    "import requests\n",
    "import urllib\n",
    "from urllib import parse\n",
    "import sys\n",
    "import base64\n",
    "import numpy as np\n",
    "import re\n",
    "import pymysql\n",
    "# import MySQLdb\n",
    "import base64\n",
    "import datetime\n",
    "from datetime import datetime\n",
    "from collections import defaultdict\n",
    "import pickle\n",
    "import pprint\n",
    "from pprint import pprint\n",
    "import urllib\n",
    "import pandas as pd\n",
    "import numpy as np\n",
    "import json\n",
    "import requests\n",
    "import boto3\n",
    "import matplotlib.pyplot as plt\n",
    "import pymysql\n",
    "from io import StringIO\n",
    "import ast"
   ]
  },
  {
   "cell_type": "code",
   "execution_count": 3,
   "metadata": {},
   "outputs": [],
   "source": [
    "# IMPORT STUBHUB\n",
    "s3_client = boto3.client('s3')\n",
    "bucket = 'willjeventdata'\n",
    "key = 'stubhub_events.pkl'\n",
    "response = s3_client.get_object(Bucket=bucket, Key=key)\n",
    "event_dict = (response['Body'].read())\n",
    "event_json = json.loads(event_dict.decode('utf8'))\n",
    "stubhub_event_df = pd.DataFrame.from_dict(event_json)"
   ]
  },
  {
   "cell_type": "code",
   "execution_count": 4,
   "metadata": {},
   "outputs": [],
   "source": [
    "# IMPORT TICKETMASTER\n",
    "s3_client = boto3.client('s3')\n",
    "bucket = 'willjeventdata'\n",
    "key = 'ticketmaster_events.pkl'\n",
    "response = s3_client.get_object(Bucket=bucket, Key=key)\n",
    "event_dict = (response['Body'].read())\n",
    "event_json = json.loads(event_dict.decode('utf8'))\n",
    "ticketmaster_event_df = pd.DataFrame.from_dict(event_json)"
   ]
  },
  {
   "cell_type": "code",
   "execution_count": 5,
   "metadata": {},
   "outputs": [],
   "source": [
    "# IMPORT EVENTBRITE\n",
    "s3_client = boto3.client('s3')\n",
    "bucket = 'willjeventdata'\n",
    "key = 'eventbrite_events.pkl'\n",
    "response = s3_client.get_object(Bucket=bucket, Key=key)\n",
    "event_dict = (response['Body'].read())\n",
    "event_json = json.loads(event_dict.decode('utf8'))\n",
    "eventbrite_event_df = pd.DataFrame.from_dict(event_json)"
   ]
  },
  {
   "cell_type": "code",
   "execution_count": 44,
   "metadata": {},
   "outputs": [
    {
     "name": "stdout",
     "output_type": "stream",
     "text": [
      "{'ResponseMetadata': {'RequestId': 'E0163CE5C1813428', 'HostId': 'bSSzCCSdZ4Y5Xc4Ua/6DQHSl209BILaXU8j5MZU7ah5mHczllEacF//VzKXba1zHuL7pliGgSPo=', 'HTTPStatusCode': 200, 'HTTPHeaders': {'x-amz-id-2': 'bSSzCCSdZ4Y5Xc4Ua/6DQHSl209BILaXU8j5MZU7ah5mHczllEacF//VzKXba1zHuL7pliGgSPo=', 'x-amz-request-id': 'E0163CE5C1813428', 'date': 'Thu, 26 Sep 2019 14:23:39 GMT', 'transfer-encoding': 'chunked', 'server': 'AmazonS3'}, 'RetryAttempts': 0}, 'Payload': <botocore.eventstream.EventStream object at 0x000001B03B55B4C8>}\n",
      "b'{\"artist\":\"Amon Amarth\",\"average_price\":96e0,\"capacity\":1000,\"city\":\"Sacramento\",\"create_ts\":1565527280000,\"date_UTC\":1569376800000,\"highest_price\":0,\"id\":\"4911285\",\"listing_count\":23e0,\"lowest_price\":55e0,\"median_price\":75e0,\"name\":\"Amon Amarth\",\"state\":\"CA\",\"venue\":\"Ace of Spades\"}\\n'\n"
     ]
    },
    {
     "ename": "ValueError",
     "evalue": "malformed node or string: b'{\"artist\":\"Amon Amarth\",\"average_price\":96e0,\"capacity\":1000,\"city\":\"Sacramento\",\"create_ts\":1565527280000,\"date_UTC\":1569376800000,\"highest_price\":0,\"id\":\"4911285\",\"listing_count\":23e0,\"lowest_price\":55e0,\"median_price\":75e0,\"name\":\"Amon Amarth\",\"state\":\"CA\",\"venue\":\"Ace of Spades\"}\\n'",
     "output_type": "error",
     "traceback": [
      "\u001b[1;31m---------------------------------------------------------------------------\u001b[0m",
      "\u001b[1;31mValueError\u001b[0m                                Traceback (most recent call last)",
      "\u001b[1;32m<ipython-input-44-eee0a8ac6b7d>\u001b[0m in \u001b[0;36m<module>\u001b[1;34m\u001b[0m\n\u001b[0;32m     28\u001b[0m \u001b[1;33m\u001b[0m\u001b[0m\n\u001b[0;32m     29\u001b[0m \u001b[0mprint\u001b[0m\u001b[1;33m(\u001b[0m\u001b[0mrecords\u001b[0m\u001b[1;33m[\u001b[0m\u001b[1;36m0\u001b[0m\u001b[1;33m]\u001b[0m\u001b[1;33m)\u001b[0m\u001b[1;33m\u001b[0m\u001b[1;33m\u001b[0m\u001b[0m\n\u001b[1;32m---> 30\u001b[1;33m \u001b[0mtest\u001b[0m \u001b[1;33m=\u001b[0m \u001b[0mast\u001b[0m\u001b[1;33m.\u001b[0m\u001b[0mliteral_eval\u001b[0m\u001b[1;33m(\u001b[0m\u001b[0mrecords\u001b[0m\u001b[1;33m[\u001b[0m\u001b[1;36m0\u001b[0m\u001b[1;33m]\u001b[0m\u001b[1;33m)\u001b[0m\u001b[1;33m\u001b[0m\u001b[1;33m\u001b[0m\u001b[0m\n\u001b[0m\u001b[0;32m     31\u001b[0m \u001b[0mprint\u001b[0m\u001b[1;33m(\u001b[0m\u001b[0mtest\u001b[0m\u001b[1;33m)\u001b[0m\u001b[1;33m\u001b[0m\u001b[1;33m\u001b[0m\u001b[0m\n\u001b[0;32m     32\u001b[0m \u001b[1;33m\u001b[0m\u001b[0m\n",
      "\u001b[1;32m~\\AppData\\Local\\Continuum\\anaconda3\\envs\\event_ticket_pricing\\lib\\ast.py\u001b[0m in \u001b[0;36mliteral_eval\u001b[1;34m(node_or_string)\u001b[0m\n\u001b[0;32m     89\u001b[0m                     \u001b[1;32mreturn\u001b[0m \u001b[0mleft\u001b[0m \u001b[1;33m-\u001b[0m \u001b[0mright\u001b[0m\u001b[1;33m\u001b[0m\u001b[1;33m\u001b[0m\u001b[0m\n\u001b[0;32m     90\u001b[0m         \u001b[1;32mreturn\u001b[0m \u001b[0m_convert_signed_num\u001b[0m\u001b[1;33m(\u001b[0m\u001b[0mnode\u001b[0m\u001b[1;33m)\u001b[0m\u001b[1;33m\u001b[0m\u001b[1;33m\u001b[0m\u001b[0m\n\u001b[1;32m---> 91\u001b[1;33m     \u001b[1;32mreturn\u001b[0m \u001b[0m_convert\u001b[0m\u001b[1;33m(\u001b[0m\u001b[0mnode_or_string\u001b[0m\u001b[1;33m)\u001b[0m\u001b[1;33m\u001b[0m\u001b[1;33m\u001b[0m\u001b[0m\n\u001b[0m\u001b[0;32m     92\u001b[0m \u001b[1;33m\u001b[0m\u001b[0m\n\u001b[0;32m     93\u001b[0m \u001b[1;33m\u001b[0m\u001b[0m\n",
      "\u001b[1;32m~\\AppData\\Local\\Continuum\\anaconda3\\envs\\event_ticket_pricing\\lib\\ast.py\u001b[0m in \u001b[0;36m_convert\u001b[1;34m(node)\u001b[0m\n\u001b[0;32m     88\u001b[0m                 \u001b[1;32melse\u001b[0m\u001b[1;33m:\u001b[0m\u001b[1;33m\u001b[0m\u001b[1;33m\u001b[0m\u001b[0m\n\u001b[0;32m     89\u001b[0m                     \u001b[1;32mreturn\u001b[0m \u001b[0mleft\u001b[0m \u001b[1;33m-\u001b[0m \u001b[0mright\u001b[0m\u001b[1;33m\u001b[0m\u001b[1;33m\u001b[0m\u001b[0m\n\u001b[1;32m---> 90\u001b[1;33m         \u001b[1;32mreturn\u001b[0m \u001b[0m_convert_signed_num\u001b[0m\u001b[1;33m(\u001b[0m\u001b[0mnode\u001b[0m\u001b[1;33m)\u001b[0m\u001b[1;33m\u001b[0m\u001b[1;33m\u001b[0m\u001b[0m\n\u001b[0m\u001b[0;32m     91\u001b[0m     \u001b[1;32mreturn\u001b[0m \u001b[0m_convert\u001b[0m\u001b[1;33m(\u001b[0m\u001b[0mnode_or_string\u001b[0m\u001b[1;33m)\u001b[0m\u001b[1;33m\u001b[0m\u001b[1;33m\u001b[0m\u001b[0m\n\u001b[0;32m     92\u001b[0m \u001b[1;33m\u001b[0m\u001b[0m\n",
      "\u001b[1;32m~\\AppData\\Local\\Continuum\\anaconda3\\envs\\event_ticket_pricing\\lib\\ast.py\u001b[0m in \u001b[0;36m_convert_signed_num\u001b[1;34m(node)\u001b[0m\n\u001b[0;32m     61\u001b[0m             \u001b[1;32melse\u001b[0m\u001b[1;33m:\u001b[0m\u001b[1;33m\u001b[0m\u001b[1;33m\u001b[0m\u001b[0m\n\u001b[0;32m     62\u001b[0m                 \u001b[1;32mreturn\u001b[0m \u001b[1;33m-\u001b[0m \u001b[0moperand\u001b[0m\u001b[1;33m\u001b[0m\u001b[1;33m\u001b[0m\u001b[0m\n\u001b[1;32m---> 63\u001b[1;33m         \u001b[1;32mreturn\u001b[0m \u001b[0m_convert_num\u001b[0m\u001b[1;33m(\u001b[0m\u001b[0mnode\u001b[0m\u001b[1;33m)\u001b[0m\u001b[1;33m\u001b[0m\u001b[1;33m\u001b[0m\u001b[0m\n\u001b[0m\u001b[0;32m     64\u001b[0m     \u001b[1;32mdef\u001b[0m \u001b[0m_convert\u001b[0m\u001b[1;33m(\u001b[0m\u001b[0mnode\u001b[0m\u001b[1;33m)\u001b[0m\u001b[1;33m:\u001b[0m\u001b[1;33m\u001b[0m\u001b[1;33m\u001b[0m\u001b[0m\n\u001b[0;32m     65\u001b[0m         \u001b[1;32mif\u001b[0m \u001b[0misinstance\u001b[0m\u001b[1;33m(\u001b[0m\u001b[0mnode\u001b[0m\u001b[1;33m,\u001b[0m \u001b[0mConstant\u001b[0m\u001b[1;33m)\u001b[0m\u001b[1;33m:\u001b[0m\u001b[1;33m\u001b[0m\u001b[1;33m\u001b[0m\u001b[0m\n",
      "\u001b[1;32m~\\AppData\\Local\\Continuum\\anaconda3\\envs\\event_ticket_pricing\\lib\\ast.py\u001b[0m in \u001b[0;36m_convert_num\u001b[1;34m(node)\u001b[0m\n\u001b[0;32m     53\u001b[0m         \u001b[1;32melif\u001b[0m \u001b[0misinstance\u001b[0m\u001b[1;33m(\u001b[0m\u001b[0mnode\u001b[0m\u001b[1;33m,\u001b[0m \u001b[0mNum\u001b[0m\u001b[1;33m)\u001b[0m\u001b[1;33m:\u001b[0m\u001b[1;33m\u001b[0m\u001b[1;33m\u001b[0m\u001b[0m\n\u001b[0;32m     54\u001b[0m             \u001b[1;32mreturn\u001b[0m \u001b[0mnode\u001b[0m\u001b[1;33m.\u001b[0m\u001b[0mn\u001b[0m\u001b[1;33m\u001b[0m\u001b[1;33m\u001b[0m\u001b[0m\n\u001b[1;32m---> 55\u001b[1;33m         \u001b[1;32mraise\u001b[0m \u001b[0mValueError\u001b[0m\u001b[1;33m(\u001b[0m\u001b[1;34m'malformed node or string: '\u001b[0m \u001b[1;33m+\u001b[0m \u001b[0mrepr\u001b[0m\u001b[1;33m(\u001b[0m\u001b[0mnode\u001b[0m\u001b[1;33m)\u001b[0m\u001b[1;33m)\u001b[0m\u001b[1;33m\u001b[0m\u001b[1;33m\u001b[0m\u001b[0m\n\u001b[0m\u001b[0;32m     56\u001b[0m     \u001b[1;32mdef\u001b[0m \u001b[0m_convert_signed_num\u001b[0m\u001b[1;33m(\u001b[0m\u001b[0mnode\u001b[0m\u001b[1;33m)\u001b[0m\u001b[1;33m:\u001b[0m\u001b[1;33m\u001b[0m\u001b[1;33m\u001b[0m\u001b[0m\n\u001b[0;32m     57\u001b[0m         \u001b[1;32mif\u001b[0m \u001b[0misinstance\u001b[0m\u001b[1;33m(\u001b[0m\u001b[0mnode\u001b[0m\u001b[1;33m,\u001b[0m \u001b[0mUnaryOp\u001b[0m\u001b[1;33m)\u001b[0m \u001b[1;32mand\u001b[0m \u001b[0misinstance\u001b[0m\u001b[1;33m(\u001b[0m\u001b[0mnode\u001b[0m\u001b[1;33m.\u001b[0m\u001b[0mop\u001b[0m\u001b[1;33m,\u001b[0m \u001b[1;33m(\u001b[0m\u001b[0mUAdd\u001b[0m\u001b[1;33m,\u001b[0m \u001b[0mUSub\u001b[0m\u001b[1;33m)\u001b[0m\u001b[1;33m)\u001b[0m\u001b[1;33m:\u001b[0m\u001b[1;33m\u001b[0m\u001b[1;33m\u001b[0m\u001b[0m\n",
      "\u001b[1;31mValueError\u001b[0m: malformed node or string: b'{\"artist\":\"Amon Amarth\",\"average_price\":96e0,\"capacity\":1000,\"city\":\"Sacramento\",\"create_ts\":1565527280000,\"date_UTC\":1569376800000,\"highest_price\":0,\"id\":\"4911285\",\"listing_count\":23e0,\"lowest_price\":55e0,\"median_price\":75e0,\"name\":\"Amon Amarth\",\"state\":\"CA\",\"venue\":\"Ace of Spades\"}\\n'"
     ]
    }
   ],
   "source": [
    "# IMPORT SEATGEEK\n",
    "s3_client = boto3.client('s3')\n",
    "bucket = 'willjeventdata'\n",
    "key = 'seatgeek_events.pkl'\n",
    "# response = s3_client.get_object(Bucket=bucket, Key=key)\n",
    "# event_dict = (response['Body'].read())\n",
    "# sql_stmt = \"\"\"SELECT * FROM s3object WHERE \\\"artist\\\" = 'SALES'\"\"\"\n",
    "sql_stmt = \"\"\"SELECT * FROM s3object LIMIT 1\"\"\"\n",
    "\n",
    "req = s3_client.select_object_content(\n",
    "    Bucket='willjeventdata',\n",
    "    Key='seatgeek/seatgeek_events.json',\n",
    "    ExpressionType='SQL',\n",
    "    Expression=sql_stmt,\n",
    "    InputSerialization = {'JSON': {'Type': 'Lines'}},\n",
    "    OutputSerialization = {'JSON': {}}\n",
    ")\n",
    "\n",
    "print(req)\n",
    "\n",
    "records = []\n",
    "for event in req['Payload']:\n",
    "    if 'Records' in event:\n",
    "        records.append(event['Records']['Payload'])\n",
    "    elif 'Stats' in event:\n",
    "        stats = event['Stats']['Details']\n",
    "        \n",
    "        \n",
    "print(records[0])\n",
    "test = ast.literal_eval(records[0])\n",
    "print(test)\n",
    "\n",
    "file_str = ''.join(r.decode('utf-8') for r in records)\n",
    "\n",
    "print(file_str)\n",
    "\n",
    "\n",
    "\n"
   ]
  },
  {
   "cell_type": "code",
   "execution_count": null,
   "metadata": {},
   "outputs": [],
   "source": []
  }
 ],
 "metadata": {
  "kernelspec": {
   "display_name": "Python 3",
   "language": "python",
   "name": "python3"
  },
  "language_info": {
   "codemirror_mode": {
    "name": "ipython",
    "version": 3
   },
   "file_extension": ".py",
   "mimetype": "text/x-python",
   "name": "python",
   "nbconvert_exporter": "python",
   "pygments_lexer": "ipython3",
   "version": "3.7.4"
  }
 },
 "nbformat": 4,
 "nbformat_minor": 2
}
